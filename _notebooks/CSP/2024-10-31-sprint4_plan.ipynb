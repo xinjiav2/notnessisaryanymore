{
 "cells": [
  {
   "cell_type": "raw",
   "metadata": {
    "vscode": {
     "languageId": "raw"
    }
   },
   "source": [
    "---\n",
    "layout: post\n",
    "title: Sprint 4 - CSP Ideation and Objectives  \n",
    "description:  Software Ideation, Design, and Development for College Board CPT \n",
    "type: issues \n",
    "courses: { csp: {week: 13} }\n",
    "comments: true\n",
    "permalink: /csp/sprint4/objectives\n",
    "---"
   ]
  },
  {
   "cell_type": "markdown",
   "metadata": {},
   "source": [
    "## Sprint Objectives\n",
    "\n",
    "1. **Breaking out your own Social Media Project**:\n",
    "   - Objective is to create something that belongs to you and could potentially lead to your CPT project.\n",
    "   - There will only be one person with rights to pull code into the repository.\n",
    "   - Teams will be 3 people, tables will be 6 people.\n",
    "   - We will plan leadership off of one Scrum Master and Integrator per 6 people.\n",
    "   - Teams of 3 will have very distinct features.\n",
    "   - This work will require coordination and design.\n",
    "   - There will be frequent checkpoints.\n",
    "   - The first checkpoints will show that you are meeting Big Idea 1.1 to 1.3 requirements in planning, coordination, as well as meeting all the requirements for CPT.\n",
    "   - Read the CPT requirements and start a planning breakdown.\n",
    "\n",
    "2. **Extending ideas for your group Social Media Project**:\n",
    "   - Your project should have designs for signup, login, and your social media features and actions.\n",
    "   - Each person in the team will have a clear path and design for full stack responsibility.\n",
    "   - Additional areas of consideration that must be considered:\n",
    "     - Jinja MVC [admin menu](https://flask2025.nighthawkcodingsociety.com/login?next=/users/table2)\n",
    "     - Home Page [design](https://nighthawkcoders.github.io/flocker_frontend/)\n",
    "     - Additional features mentioned below for an \"A\"\n",
    "\n",
    "3. **Teaching Elements**:\n",
    "   - There are teaching elements we will focus on in Big Ideas 1, 2, 4, and the remaining sections of Big Idea 3.\n",
    "   - Selection of these elements could impact a mandatory CompSci social media section to your Social Media project.\n",
    "   - References to assist can be found on [Time Box Page](https://nighthawkcoders.github.io/teacher_portfolio/navigation/csp)."
   ]
  },
  {
   "cell_type": "markdown",
   "metadata": {},
   "source": [
    "## Priorities for Planning College Board Create Performance Task (CPT)\n",
    "\n",
    "Students will teach topics from former lessons and materials, reinforcing their understanding and helping peers learn.\n",
    "\n",
    "Listed below are key topics to accomplish the CPT project effectively. This outline will guide students as they continue developing their Social Media projects. The focus will be on collaboration, design, debugging, and testing.\n",
    "\n",
    "### 1. BI 1.1 & 1.2 Collaboration, Program Function, and Purpose\n",
    "- **Iteration, SCRUM, Agile, Issues, Kanban:**\n",
    "  - Implement agile methodologies to manage project tasks and progress.\n",
    "  - Use tools like Kanban boards to track issues and iterations.\n",
    "- **Program Code:**\n",
    "  - Reference assigned Free Response Questions (FRQs) for coding standards and practices.\n",
    "- **Personal Project Reference:**\n",
    "  - Utilize AP Classroom FRQs as a reference for personal project development.\n",
    "- **Key Tools and Methods:**\n",
    "  - Identify and use essential tools and methods to achieve the program's purpose.\n",
    "\n",
    "### 2. BI 1.3 Program Design and Development\n",
    "- **Frontend and Backend Integration:**\n",
    "  - Ensure the frontend is user-friendly and visually appealing.\n",
    "  - Develop a robust backend to support frontend functionalities.\n",
    "- **Improving Applications:**\n",
    "  - Enhance applications by incorporating ideas and feedback from earlier projects (e.g., reviews of Flocker).\n",
    "- **Design Documentation:**\n",
    "  - Use tools like draw.io, UML diagrams, and flowcharts to capture and document design.\n",
    "- **Code Comments and Style:**\n",
    "  - Follow [PEP 8 style guidelines](https://peps.python.org/pep-0008/#introduction) for writing clean and maintainable code.\n",
    "  - Use comments to document code implementation and logic.\n",
    "\n",
    "### 3. BI 1.4 Debugging Code and Fixing Errors\n",
    "- **Backend Debugging:**\n",
    "  - Use Postman to trace and debug backend code.\n",
    "- **Frontend Debugging:**\n",
    "  - Utilize browser Inspect tools to trace and debug frontend code.\n",
    "- **End-to-End Tracing:**\n",
    "  - Ensure seamless communication and data flow between frontend and backend.\n",
    "- **Testing:**\n",
    "  - Build and execute tests using Postman.\n",
    "  - Add test data to systems to validate functionality and performance.\n",
    "\n"
   ]
  },
  {
   "cell_type": "markdown",
   "metadata": {
    "vscode": {
     "languageId": "raw"
    }
   },
   "source": [
    "### 4. BI 2.0 Data\n",
    "- **Database Management with SQLite:**\n",
    "  - Set up and manage SQLite databases to store user data, posts, and images.\n",
    "  - Design database schemas to efficiently handle social media data.\n",
    "- **Image Upload and Storage:**\n",
    "  - Implement functionality to upload and store images in the database or file system.\n",
    "  - Ensure images are properly linked to user posts and profiles.\n",
    "- **Data Security and Privacy:**\n",
    "  - Implement security measures to protect user data and images.\n",
    "  - Ensure compliance with privacy regulations and best practices.\n",
    "- **Data Retrieval and Display:**\n",
    "  - Develop efficient queries to retrieve and display data on the frontend.\n",
    "  - Optimize database performance for fast data access.\n",
    "- **Data Backup and Recovery:**\n",
    "  - Implement backup strategies to prevent data loss.\n",
    "  - Develop recovery procedures to restore data in case of failure."
   ]
  },
  {
   "cell_type": "markdown",
   "metadata": {
    "vscode": {
     "languageId": "raw"
    }
   },
   "source": [
    "### 5. BI 3.0 Deployment and Internet Concepts\n",
    "- **Deployment Strategies:**\n",
    "  - Deploy the application on platforms like Heroku, AWS\n",
    "  - Use continuous integration and continuous deployment (CI/CD) pipelines to automate deployment.\n",
    "- **Domain Name System (DNS):**\n",
    "  - Understand how DNS works and configure domain names for the deployed application.\n",
    "- **HTTP and RESTful APIs:**\n",
    "  - Use HTTP methods (GET, POST, PUT, DELETE) to interact with the backend.\n",
    "  - Design and implement RESTful APIs for communication between frontend and backend.\n",
    "- **Security and Authentication:**\n",
    "  - Implement authentication mechanisms (e.g., JWT) to secure the application.\n",
    "  - Use HTTPS to encrypt data transmitted between the client and server.\n",
    "- **Performance Optimization:**\n",
    "  - Optimize frontend performance by minimizing assets and using caching.\n",
    "  - Optimize backend performance by using efficient algorithms and database indexing.\n",
    "- **Monitoring and Logging:**\n",
    "  - Implement monitoring tools to track application performance and errors.\n",
    "  - Use logging to record application events and debug issues."
   ]
  },
  {
   "cell_type": "markdown",
   "metadata": {
    "vscode": {
     "languageId": "raw"
    }
   },
   "source": [
    "### 6. BI 4.0 Data Science and Social Media\n",
    "- **Data Analysis Libraries:**\n",
    "  - Use libraries like Pandas, NumPy, and Matplotlib for data analysis and visualization.\n",
    "  - Analyze user engagement, post popularity, and other metrics.\n",
    "- **Machine Learning:**\n",
    "  - Implement machine learning models to predict user behavior and content trends.\n",
    "  - Use libraries like Scikit-learn and TensorFlow for building and training models.\n",
    "- **Natural Language Processing (NLP):**\n",
    "  - Use NLP techniques to analyze text data from posts and comments.\n",
    "  - Implement sentiment analysis to gauge user sentiment.\n",
    "- **Simulations and Modeling:**\n",
    "  - Create simulations to model social media interactions and network effects.\n",
    "  - Use agent-based modeling to study the spread of information and influence.\n",
    "- **Big Data Tools:**\n",
    "  - Explore tools like Hadoop and Spark for handling large datasets.\n",
    "  - Implement data pipelines to process and analyze big data."
   ]
  }
 ],
 "metadata": {
  "language_info": {
   "name": "python"
  }
 },
 "nbformat": 4,
 "nbformat_minor": 2
}
